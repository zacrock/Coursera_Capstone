{
    "cells": [
        {
            "cell_type": "markdown",
            "metadata": {
                "collapsed": true
            },
            "source": "# Schoenrock Final Project - City Relocation\n### Applied Data Science Capstone by IBM/Coursera"
        },
        {
            "cell_type": "markdown",
            "metadata": {},
            "source": "## Table of contents\n* [Introduction](#introduction)\n* [Data](#data)\n* [Methodology](#methodology)\n* [Analysis](#analysis)\n* [Results and Discussion](#results)\n* [Conclusion](#conclusion)"
        },
        {
            "cell_type": "markdown",
            "metadata": {},
            "source": "\n\n## Introduction <a name=\"introduction\"></a>"
        },
        {
            "cell_type": "markdown",
            "metadata": {},
            "source": "I am currently in the process of looking for a new place to live. For my final project, I will try to find the optimal city for me to move to based upon specific criteria and similarity to other cities that I have enjoyed living in. Specifically, I am looking for a city based in the United States that is similar to **San Francisco** and **Chicago**.\n\nSince there are a lot of cities in the United States, I will limit my search to 5 cities: Seattle, Denver, Atlanta, Austin, and Nashville. I will try to detect which city and neighborhood has a high similarity to my favorite previous locations and has a minimum threshold for parks, museums, and restaurants."
        },
        {
            "cell_type": "markdown",
            "metadata": {},
            "source": "## Data <a name=\"data\"></a>"
        },
        {
            "cell_type": "markdown",
            "metadata": {},
            "source": "Based on the requirements for this project, factors that will influence our decission are:\n* number of existing restaurants in the neighborhood (any type of restaurant)\n* unique types of restaurants in the neighborhood\n* number of museums in the neighborhood\n* similarity to Cow Hollow, San Francisco\n* similarity to Lakeview, Chicago\n\nWe decided to use regularly spaced grid of locations, centered around city center, to define our neighborhoods.\n\nFollowing data sources will be needed to extract/generate the required information:\n* coordinate of each city center will be obtained using **Geopy Geocoders**\n* number of restaurants and their type, number of museums, and number of parks in every neighborhood will be obtained using **Foursquare API**\n"
        },
        {
            "cell_type": "markdown",
            "metadata": {},
            "source": "### Neighborhoods\n\nLets first look at the Cow Hollow and Lakeview neighborhoods"
        },
        {
            "cell_type": "code",
            "execution_count": 44,
            "metadata": {},
            "outputs": [
                {
                    "name": "stdout",
                    "output_type": "stream",
                    "text": "/opt/conda/envs/Python-3.7-main/lib/python3.7/site-packages/secretstorage/dhcrypto.py:16: CryptographyDeprecationWarning: int_from_bytes is deprecated, use int.from_bytes instead\n  from cryptography.utils import int_from_bytes\n/opt/conda/envs/Python-3.7-main/lib/python3.7/site-packages/secretstorage/util.py:25: CryptographyDeprecationWarning: int_from_bytes is deprecated, use int.from_bytes instead\n  from cryptography.utils import int_from_bytes\nRequirement already satisfied: geopy in /opt/conda/envs/Python-3.7-main/lib/python3.7/site-packages (2.0.0)\nRequirement already satisfied: geographiclib<2,>=1.49 in /opt/conda/envs/Python-3.7-main/lib/python3.7/site-packages (from geopy) (1.50)\n/opt/conda/envs/Python-3.7-main/lib/python3.7/site-packages/secretstorage/dhcrypto.py:16: CryptographyDeprecationWarning: int_from_bytes is deprecated, use int.from_bytes instead\n  from cryptography.utils import int_from_bytes\n/opt/conda/envs/Python-3.7-main/lib/python3.7/site-packages/secretstorage/util.py:25: CryptographyDeprecationWarning: int_from_bytes is deprecated, use int.from_bytes instead\n  from cryptography.utils import int_from_bytes\nRequirement already satisfied: folium==0.5.0 in /opt/conda/envs/Python-3.7-main/lib/python3.7/site-packages (0.5.0)\nRequirement already satisfied: requests in /opt/conda/envs/Python-3.7-main/lib/python3.7/site-packages (from folium==0.5.0) (2.24.0)\nRequirement already satisfied: branca in /opt/conda/envs/Python-3.7-main/lib/python3.7/site-packages (from folium==0.5.0) (0.4.2)\nRequirement already satisfied: jinja2 in /opt/conda/envs/Python-3.7-main/lib/python3.7/site-packages (from folium==0.5.0) (2.11.2)\nRequirement already satisfied: six in /opt/conda/envs/Python-3.7-main/lib/python3.7/site-packages (from folium==0.5.0) (1.15.0)\nRequirement already satisfied: idna<3,>=2.5 in /opt/conda/envs/Python-3.7-main/lib/python3.7/site-packages (from requests->folium==0.5.0) (2.9)\nRequirement already satisfied: urllib3!=1.25.0,!=1.25.1,<1.26,>=1.21.1 in /opt/conda/envs/Python-3.7-main/lib/python3.7/site-packages (from requests->folium==0.5.0) (1.25.9)\nRequirement already satisfied: chardet<4,>=3.0.2 in /opt/conda/envs/Python-3.7-main/lib/python3.7/site-packages (from requests->folium==0.5.0) (3.0.4)\nRequirement already satisfied: certifi>=2017.4.17 in /opt/conda/envs/Python-3.7-main/lib/python3.7/site-packages (from requests->folium==0.5.0) (2020.12.5)\nRequirement already satisfied: MarkupSafe>=0.23 in /opt/conda/envs/Python-3.7-main/lib/python3.7/site-packages (from jinja2->folium==0.5.0) (1.1.1)\nFolium installed\nLibraries imported.\n"
                }
            ],
            "source": "import requests # library to handle requests\nimport pandas as pd # library for data analsysis\nimport numpy as np # library to handle data in a vectorized manner\n\n!pip install geopy\nfrom geopy.geocoders import Nominatim # module to convert an address into latitude and longitude values\n\n# libraries for displaying images\nfrom IPython.display import Image \nfrom IPython.core.display import HTML \n    \n# tranforming json file into a pandas dataframe library\nfrom pandas.io.json import json_normalize\n\n\n! pip install folium==0.5.0\nimport folium # plotting library\n\nimport matplotlib.cm as cm\nimport matplotlib.colors as colors\nfrom sklearn.cluster import KMeans\n\nprint('Folium installed')\nprint('Libraries imported.')"
        },
        {
            "cell_type": "code",
            "execution_count": 19,
            "metadata": {},
            "outputs": [
                {
                    "name": "stdout",
                    "output_type": "stream",
                    "text": "37.7790262 -122.419906\n"
                }
            ],
            "source": "sf_address = 'San Francisco, California'\n\ngeolocator = Nominatim(user_agent=\"foursquare_agent\")\nsf_location = geolocator.geocode(sf_address)\nsf_latitude = sf_location.latitude\nsf_longitude = sf_location.longitude\nprint(sf_latitude, sf_longitude)"
        },
        {
            "cell_type": "code",
            "execution_count": 20,
            "metadata": {},
            "outputs": [
                {
                    "name": "stdout",
                    "output_type": "stream",
                    "text": "41.8755616 -87.6244212\n"
                }
            ],
            "source": "chi_address = 'Chicago, Illinois'\n\ngeolocator = Nominatim(user_agent=\"foursquare_agent\")\nchi_location = geolocator.geocode(chi_address)\nchi_latitude = chi_location.latitude\nchi_longitude = chi_location.longitude\nprint(chi_latitude, chi_longitude)"
        },
        {
            "cell_type": "code",
            "execution_count": 21,
            "metadata": {},
            "outputs": [
                {
                    "name": "stdout",
                    "output_type": "stream",
                    "text": "47.6038321 -122.3300624\n"
                }
            ],
            "source": "seattle_address = 'Seattle, Washington'\n\ngeolocator = Nominatim(user_agent=\"foursquare_agent\")\nseattle_location = geolocator.geocode(seattle_address)\nseattle_latitude = seattle_location.latitude\nseattle_longitude = seattle_location.longitude\nprint(seattle_latitude, seattle_longitude)"
        },
        {
            "cell_type": "code",
            "execution_count": 22,
            "metadata": {},
            "outputs": [
                {
                    "name": "stdout",
                    "output_type": "stream",
                    "text": "39.7392364 -104.9848623\n"
                }
            ],
            "source": "denver_address = 'Denver, Colorado'\n\ngeolocator = Nominatim(user_agent=\"foursquare_agent\")\ndenver_location = geolocator.geocode(denver_address)\ndenver_latitude = denver_location.latitude\ndenver_longitude = denver_location.longitude\nprint(denver_latitude, denver_longitude)"
        },
        {
            "cell_type": "code",
            "execution_count": 23,
            "metadata": {},
            "outputs": [
                {
                    "name": "stdout",
                    "output_type": "stream",
                    "text": "33.7489924 -84.3902644\n"
                }
            ],
            "source": "atlanta_address = 'Atlanta, Georgia'\n\ngeolocator = Nominatim(user_agent=\"foursquare_agent\")\natlanta_location = geolocator.geocode(atlanta_address)\natlanta_latitude = atlanta_location.latitude\natlanta_longitude = atlanta_location.longitude\nprint(atlanta_latitude, atlanta_longitude)"
        },
        {
            "cell_type": "code",
            "execution_count": 24,
            "metadata": {},
            "outputs": [
                {
                    "name": "stdout",
                    "output_type": "stream",
                    "text": "30.2711286 -97.7436995\n"
                }
            ],
            "source": "austin_address = 'Austin, Texas'\n\ngeolocator = Nominatim(user_agent=\"foursquare_agent\")\naustin_location = geolocator.geocode(austin_address)\naustin_latitude = austin_location.latitude\naustin_longitude = austin_location.longitude\nprint(austin_latitude, austin_longitude)"
        },
        {
            "cell_type": "code",
            "execution_count": 25,
            "metadata": {},
            "outputs": [
                {
                    "name": "stdout",
                    "output_type": "stream",
                    "text": "36.1622296 -86.7743531\n"
                }
            ],
            "source": "nash_address = 'Nashville, Tennessee'\n\ngeolocator = Nominatim(user_agent=\"foursquare_agent\")\nnash_location = geolocator.geocode(nash_address)\nnash_latitude = nash_location.latitude\nnash_longitude = nash_location.longitude\nprint(nash_latitude, nash_longitude)"
        },
        {
            "cell_type": "code",
            "execution_count": 26,
            "metadata": {},
            "outputs": [
                {
                    "data": {
                        "text/html": "<div>\n<style scoped>\n    .dataframe tbody tr th:only-of-type {\n        vertical-align: middle;\n    }\n\n    .dataframe tbody tr th {\n        vertical-align: top;\n    }\n\n    .dataframe thead th {\n        text-align: right;\n    }\n</style>\n<table border=\"1\" class=\"dataframe\">\n  <thead>\n    <tr style=\"text-align: right;\">\n      <th></th>\n      <th>City</th>\n      <th>State</th>\n      <th>Latitude</th>\n      <th>Longitude</th>\n    </tr>\n  </thead>\n  <tbody>\n    <tr>\n      <th>0</th>\n      <td>San Francisco</td>\n      <td>CA</td>\n      <td>37.779026</td>\n      <td>-122.419906</td>\n    </tr>\n    <tr>\n      <th>1</th>\n      <td>Chicago</td>\n      <td>IL</td>\n      <td>41.875562</td>\n      <td>-87.624421</td>\n    </tr>\n    <tr>\n      <th>2</th>\n      <td>Denver</td>\n      <td>CO</td>\n      <td>39.739236</td>\n      <td>-104.984862</td>\n    </tr>\n    <tr>\n      <th>3</th>\n      <td>Seattle</td>\n      <td>WA</td>\n      <td>47.603832</td>\n      <td>-122.330062</td>\n    </tr>\n    <tr>\n      <th>4</th>\n      <td>Austin</td>\n      <td>TX</td>\n      <td>30.271129</td>\n      <td>-97.743700</td>\n    </tr>\n    <tr>\n      <th>5</th>\n      <td>Nashville</td>\n      <td>TN</td>\n      <td>36.162230</td>\n      <td>-86.774353</td>\n    </tr>\n  </tbody>\n</table>\n</div>",
                        "text/plain": "            City State   Latitude   Longitude\n0  San Francisco    CA  37.779026 -122.419906\n1        Chicago    IL  41.875562  -87.624421\n2         Denver    CO  39.739236 -104.984862\n3        Seattle    WA  47.603832 -122.330062\n4         Austin    TX  30.271129  -97.743700\n5      Nashville    TN  36.162230  -86.774353"
                    },
                    "execution_count": 26,
                    "metadata": {},
                    "output_type": "execute_result"
                }
            ],
            "source": "column_names = [\"City\", \"State\", \"Latitude\",\"Longitude\"]\n\nlocations = pd.DataFrame(columns = column_names)\n\nlocations = locations.append({'City' : 'San Francisco', 'State' : 'CA', 'Latitude' : sf_latitude, 'Longitude' : sf_longitude}, \n                ignore_index = True)\nlocations = locations.append({'City' : 'Chicago', 'State' : 'IL', 'Latitude' : chi_latitude, 'Longitude' : chi_longitude}, \n                ignore_index = True)\nlocations = locations.append({'City' : 'Denver', 'State' : 'CO', 'Latitude' : denver_latitude, 'Longitude' : denver_longitude}, \n                ignore_index = True)\nlocations = locations.append({'City' : 'Seattle', 'State' : 'WA', 'Latitude' : seattle_latitude, 'Longitude' : seattle_longitude}, \n                ignore_index = True)\nlocations = locations.append({'City' : 'Austin', 'State' : 'TX', 'Latitude' : austin_latitude, 'Longitude' : austin_longitude}, \n                ignore_index = True)\nlocations = locations.append({'City' : 'Nashville', 'State' : 'TN', 'Latitude' : nash_latitude, 'Longitude' : nash_longitude}, \n                ignore_index = True)\n\nlocations.head(7)"
        },
        {
            "cell_type": "markdown",
            "metadata": {},
            "source": "### Foursquare\nNow that we have our location candidates, let's use Foursquare API to get info on the venues in each neighborhood."
        },
        {
            "cell_type": "code",
            "execution_count": 32,
            "metadata": {},
            "outputs": [
                {
                    "name": "stdout",
                    "output_type": "stream",
                    "text": "Your credentails:\nCLIENT_ID: 243GFCEQ5JWNK5YSQ02KS4AYLHU1IKHQGZDM0V0PBZYUCTRS\nCLIENT_SECRET:SI0OX0YRTODV3SU1HVZMFXUO2XCOQJUVSB4IYMF13U3E2LL1\n"
                }
            ],
            "source": "CLIENT_ID = '243GFCEQ5JWNK5YSQ02KS4AYLHU1IKHQGZDM0V0PBZYUCTRS' # your Foursquare ID\nCLIENT_SECRET = 'SI0OX0YRTODV3SU1HVZMFXUO2XCOQJUVSB4IYMF13U3E2LL1' # your Foursquare Secret\nACCESS_TOKEN = '53LFMOFMXER1TFUCUVDLPCVMEMRXYPHY1NJS2WWBRS0VOYLL' # your FourSquare Access Token\nVERSION = '20180604'\nLIMIT = 300\nprint('Your credentails:')\nprint('CLIENT_ID: ' + CLIENT_ID)\nprint('CLIENT_SECRET:' + CLIENT_SECRET)"
        },
        {
            "cell_type": "code",
            "execution_count": 36,
            "metadata": {},
            "outputs": [],
            "source": "def getNearbyVenues(City, Latitude, Longitude, radius=750):\n    \n    venues_list=[]\n    for City, Latitude, Longitude in zip(City, Latitude, Longitude):\n        print(City)\n            \n        # create the API request URL\n        url = 'https://api.foursquare.com/v2/venues/explore?client_id={}&client_secret={}&ll={},{}&oauth_token={}&v={}&query={}&radius={}&limit={}'.format(\n            CLIENT_ID, \n            CLIENT_SECRET, \n            Latitude, \n            Longitude, \n            access_token,\n            VERSION, \n            search_query,\n            radius, \n            LIMIT)\n            \n        # make the GET request\n        results = requests.get(url).json()['response']['groups'][0]['items']\n        \n        # return only relevant information for each nearby venue\n        venues_list.append([(\n            City, \n            Latitude, \n            Longitude, \n            v['venue']['name'], \n            v['venue']['location']['lat'], \n            v['venue']['location']['lng'],  \n            v['venue']['categories'][0]['name']) for v in results])\n\n    nearby_venues = pd.DataFrame([item for venue_list in venues_list for item in venue_list])\n    nearby_venues.columns = ['City', \n                  'Latitude', \n                  'Longitude', \n                  'Venue', \n                  'Venue Latitude', \n                  'Venue Longitude', \n                  'Venue Category']\n    \n    return(nearby_venues)\n"
        },
        {
            "cell_type": "code",
            "execution_count": 37,
            "metadata": {},
            "outputs": [
                {
                    "name": "stdout",
                    "output_type": "stream",
                    "text": "San Francisco\nChicago\nDenver\nSeattle\nAustin\nNashville\n"
                }
            ],
            "source": "all_venues = getNearbyVenues(City=locations['City'],\n                                   Latitude=locations['Latitude'],\n                                   Longitude=locations['Longitude']\n                                  )"
        },
        {
            "cell_type": "code",
            "execution_count": 38,
            "metadata": {},
            "outputs": [
                {
                    "name": "stdout",
                    "output_type": "stream",
                    "text": "(600, 7)\n"
                },
                {
                    "data": {
                        "text/html": "<div>\n<style scoped>\n    .dataframe tbody tr th:only-of-type {\n        vertical-align: middle;\n    }\n\n    .dataframe tbody tr th {\n        vertical-align: top;\n    }\n\n    .dataframe thead th {\n        text-align: right;\n    }\n</style>\n<table border=\"1\" class=\"dataframe\">\n  <thead>\n    <tr style=\"text-align: right;\">\n      <th></th>\n      <th>City</th>\n      <th>Latitude</th>\n      <th>Longitude</th>\n      <th>Venue</th>\n      <th>Venue Latitude</th>\n      <th>Venue Longitude</th>\n      <th>Venue Category</th>\n    </tr>\n  </thead>\n  <tbody>\n    <tr>\n      <th>0</th>\n      <td>San Francisco</td>\n      <td>37.779026</td>\n      <td>-122.419906</td>\n      <td>Louise M. Davies Symphony Hall</td>\n      <td>37.777976</td>\n      <td>-122.420157</td>\n      <td>Concert Hall</td>\n    </tr>\n    <tr>\n      <th>1</th>\n      <td>San Francisco</td>\n      <td>37.779026</td>\n      <td>-122.419906</td>\n      <td>War Memorial Opera House</td>\n      <td>37.778601</td>\n      <td>-122.420816</td>\n      <td>Opera House</td>\n    </tr>\n    <tr>\n      <th>2</th>\n      <td>San Francisco</td>\n      <td>37.779026</td>\n      <td>-122.419906</td>\n      <td>Herbst Theater</td>\n      <td>37.779548</td>\n      <td>-122.420953</td>\n      <td>Concert Hall</td>\n    </tr>\n    <tr>\n      <th>3</th>\n      <td>San Francisco</td>\n      <td>37.779026</td>\n      <td>-122.419906</td>\n      <td>San Francisco Ballet</td>\n      <td>37.778580</td>\n      <td>-122.420798</td>\n      <td>Dance Studio</td>\n    </tr>\n    <tr>\n      <th>4</th>\n      <td>San Francisco</td>\n      <td>37.779026</td>\n      <td>-122.419906</td>\n      <td>Urban Bowls</td>\n      <td>37.778139</td>\n      <td>-122.422168</td>\n      <td>Poke Place</td>\n    </tr>\n  </tbody>\n</table>\n</div>",
                        "text/plain": "            City   Latitude   Longitude                           Venue  \\\n0  San Francisco  37.779026 -122.419906  Louise M. Davies Symphony Hall   \n1  San Francisco  37.779026 -122.419906        War Memorial Opera House   \n2  San Francisco  37.779026 -122.419906                  Herbst Theater   \n3  San Francisco  37.779026 -122.419906            San Francisco Ballet   \n4  San Francisco  37.779026 -122.419906                     Urban Bowls   \n\n   Venue Latitude  Venue Longitude Venue Category  \n0       37.777976      -122.420157   Concert Hall  \n1       37.778601      -122.420816    Opera House  \n2       37.779548      -122.420953   Concert Hall  \n3       37.778580      -122.420798   Dance Studio  \n4       37.778139      -122.422168     Poke Place  "
                    },
                    "execution_count": 38,
                    "metadata": {},
                    "output_type": "execute_result"
                }
            ],
            "source": "print(all_venues.shape)\nall_venues.head()"
        },
        {
            "cell_type": "code",
            "execution_count": 39,
            "metadata": {},
            "outputs": [
                {
                    "data": {
                        "text/html": "<div>\n<style scoped>\n    .dataframe tbody tr th:only-of-type {\n        vertical-align: middle;\n    }\n\n    .dataframe tbody tr th {\n        vertical-align: top;\n    }\n\n    .dataframe thead th {\n        text-align: right;\n    }\n</style>\n<table border=\"1\" class=\"dataframe\">\n  <thead>\n    <tr style=\"text-align: right;\">\n      <th></th>\n      <th>City</th>\n      <th>Accessories Store</th>\n      <th>American Restaurant</th>\n      <th>Arcade</th>\n      <th>Arepa Restaurant</th>\n      <th>Art Gallery</th>\n      <th>Art Museum</th>\n      <th>Arts &amp; Crafts Store</th>\n      <th>Asian Restaurant</th>\n      <th>Athletics &amp; Sports</th>\n      <th>...</th>\n      <th>Toy / Game Store</th>\n      <th>Trail</th>\n      <th>Train Station</th>\n      <th>Vegetarian / Vegan Restaurant</th>\n      <th>Vietnamese Restaurant</th>\n      <th>Whisky Bar</th>\n      <th>Wine Bar</th>\n      <th>Wine Shop</th>\n      <th>Women's Store</th>\n      <th>Yoga Studio</th>\n    </tr>\n  </thead>\n  <tbody>\n    <tr>\n      <th>0</th>\n      <td>San Francisco</td>\n      <td>0</td>\n      <td>0</td>\n      <td>0</td>\n      <td>0</td>\n      <td>0</td>\n      <td>0</td>\n      <td>0</td>\n      <td>0</td>\n      <td>0</td>\n      <td>...</td>\n      <td>0</td>\n      <td>0</td>\n      <td>0</td>\n      <td>0</td>\n      <td>0</td>\n      <td>0</td>\n      <td>0</td>\n      <td>0</td>\n      <td>0</td>\n      <td>0</td>\n    </tr>\n    <tr>\n      <th>1</th>\n      <td>San Francisco</td>\n      <td>0</td>\n      <td>0</td>\n      <td>0</td>\n      <td>0</td>\n      <td>0</td>\n      <td>0</td>\n      <td>0</td>\n      <td>0</td>\n      <td>0</td>\n      <td>...</td>\n      <td>0</td>\n      <td>0</td>\n      <td>0</td>\n      <td>0</td>\n      <td>0</td>\n      <td>0</td>\n      <td>0</td>\n      <td>0</td>\n      <td>0</td>\n      <td>0</td>\n    </tr>\n    <tr>\n      <th>2</th>\n      <td>San Francisco</td>\n      <td>0</td>\n      <td>0</td>\n      <td>0</td>\n      <td>0</td>\n      <td>0</td>\n      <td>0</td>\n      <td>0</td>\n      <td>0</td>\n      <td>0</td>\n      <td>...</td>\n      <td>0</td>\n      <td>0</td>\n      <td>0</td>\n      <td>0</td>\n      <td>0</td>\n      <td>0</td>\n      <td>0</td>\n      <td>0</td>\n      <td>0</td>\n      <td>0</td>\n    </tr>\n    <tr>\n      <th>3</th>\n      <td>San Francisco</td>\n      <td>0</td>\n      <td>0</td>\n      <td>0</td>\n      <td>0</td>\n      <td>0</td>\n      <td>0</td>\n      <td>0</td>\n      <td>0</td>\n      <td>0</td>\n      <td>...</td>\n      <td>0</td>\n      <td>0</td>\n      <td>0</td>\n      <td>0</td>\n      <td>0</td>\n      <td>0</td>\n      <td>0</td>\n      <td>0</td>\n      <td>0</td>\n      <td>0</td>\n    </tr>\n    <tr>\n      <th>4</th>\n      <td>San Francisco</td>\n      <td>0</td>\n      <td>0</td>\n      <td>0</td>\n      <td>0</td>\n      <td>0</td>\n      <td>0</td>\n      <td>0</td>\n      <td>0</td>\n      <td>0</td>\n      <td>...</td>\n      <td>0</td>\n      <td>0</td>\n      <td>0</td>\n      <td>0</td>\n      <td>0</td>\n      <td>0</td>\n      <td>0</td>\n      <td>0</td>\n      <td>0</td>\n      <td>0</td>\n    </tr>\n  </tbody>\n</table>\n<p>5 rows \u00d7 179 columns</p>\n</div>",
                        "text/plain": "            City  Accessories Store  American Restaurant  Arcade  \\\n0  San Francisco                  0                    0       0   \n1  San Francisco                  0                    0       0   \n2  San Francisco                  0                    0       0   \n3  San Francisco                  0                    0       0   \n4  San Francisco                  0                    0       0   \n\n   Arepa Restaurant  Art Gallery  Art Museum  Arts & Crafts Store  \\\n0                 0            0           0                    0   \n1                 0            0           0                    0   \n2                 0            0           0                    0   \n3                 0            0           0                    0   \n4                 0            0           0                    0   \n\n   Asian Restaurant  Athletics & Sports  ...  Toy / Game Store  Trail  \\\n0                 0                   0  ...                 0      0   \n1                 0                   0  ...                 0      0   \n2                 0                   0  ...                 0      0   \n3                 0                   0  ...                 0      0   \n4                 0                   0  ...                 0      0   \n\n   Train Station  Vegetarian / Vegan Restaurant  Vietnamese Restaurant  \\\n0              0                              0                      0   \n1              0                              0                      0   \n2              0                              0                      0   \n3              0                              0                      0   \n4              0                              0                      0   \n\n   Whisky Bar  Wine Bar  Wine Shop  Women's Store  Yoga Studio  \n0           0         0          0              0            0  \n1           0         0          0              0            0  \n2           0         0          0              0            0  \n3           0         0          0              0            0  \n4           0         0          0              0            0  \n\n[5 rows x 179 columns]"
                    },
                    "execution_count": 39,
                    "metadata": {},
                    "output_type": "execute_result"
                }
            ],
            "source": "# one hot encoding\nall_onehot = pd.get_dummies(all_venues[['Venue Category']], prefix=\"\", prefix_sep=\"\")\n\n# add neighborhood column back to dataframe\nall_onehot['City'] = all_venues['City'] \n\n# move neighborhood column to the first column\nfixed_columns = [all_onehot.columns[-1]] + list(all_onehot.columns[:-1])\nall_onehot = all_onehot[fixed_columns]\n\nall_onehot.head()"
        },
        {
            "cell_type": "code",
            "execution_count": 40,
            "metadata": {},
            "outputs": [
                {
                    "data": {
                        "text/html": "<div>\n<style scoped>\n    .dataframe tbody tr th:only-of-type {\n        vertical-align: middle;\n    }\n\n    .dataframe tbody tr th {\n        vertical-align: top;\n    }\n\n    .dataframe thead th {\n        text-align: right;\n    }\n</style>\n<table border=\"1\" class=\"dataframe\">\n  <thead>\n    <tr style=\"text-align: right;\">\n      <th></th>\n      <th>City</th>\n      <th>Accessories Store</th>\n      <th>American Restaurant</th>\n      <th>Arcade</th>\n      <th>Arepa Restaurant</th>\n      <th>Art Gallery</th>\n      <th>Art Museum</th>\n      <th>Arts &amp; Crafts Store</th>\n      <th>Asian Restaurant</th>\n      <th>Athletics &amp; Sports</th>\n      <th>...</th>\n      <th>Toy / Game Store</th>\n      <th>Trail</th>\n      <th>Train Station</th>\n      <th>Vegetarian / Vegan Restaurant</th>\n      <th>Vietnamese Restaurant</th>\n      <th>Whisky Bar</th>\n      <th>Wine Bar</th>\n      <th>Wine Shop</th>\n      <th>Women's Store</th>\n      <th>Yoga Studio</th>\n    </tr>\n  </thead>\n  <tbody>\n    <tr>\n      <th>0</th>\n      <td>Austin</td>\n      <td>0.01</td>\n      <td>0.02</td>\n      <td>0.00</td>\n      <td>0.00</td>\n      <td>0.00</td>\n      <td>0.01</td>\n      <td>0.00</td>\n      <td>0.00</td>\n      <td>0.01</td>\n      <td>...</td>\n      <td>0.00</td>\n      <td>0.00</td>\n      <td>0.00</td>\n      <td>0.00</td>\n      <td>0.00</td>\n      <td>0.01</td>\n      <td>0.00</td>\n      <td>0.01</td>\n      <td>0.00</td>\n      <td>0.00</td>\n    </tr>\n    <tr>\n      <th>1</th>\n      <td>Chicago</td>\n      <td>0.00</td>\n      <td>0.01</td>\n      <td>0.00</td>\n      <td>0.01</td>\n      <td>0.01</td>\n      <td>0.02</td>\n      <td>0.04</td>\n      <td>0.02</td>\n      <td>0.00</td>\n      <td>...</td>\n      <td>0.00</td>\n      <td>0.01</td>\n      <td>0.00</td>\n      <td>0.01</td>\n      <td>0.00</td>\n      <td>0.01</td>\n      <td>0.00</td>\n      <td>0.00</td>\n      <td>0.00</td>\n      <td>0.01</td>\n    </tr>\n    <tr>\n      <th>2</th>\n      <td>Denver</td>\n      <td>0.00</td>\n      <td>0.03</td>\n      <td>0.00</td>\n      <td>0.00</td>\n      <td>0.02</td>\n      <td>0.02</td>\n      <td>0.00</td>\n      <td>0.02</td>\n      <td>0.00</td>\n      <td>...</td>\n      <td>0.00</td>\n      <td>0.00</td>\n      <td>0.00</td>\n      <td>0.01</td>\n      <td>0.00</td>\n      <td>0.00</td>\n      <td>0.00</td>\n      <td>0.00</td>\n      <td>0.00</td>\n      <td>0.02</td>\n    </tr>\n    <tr>\n      <th>3</th>\n      <td>Nashville</td>\n      <td>0.00</td>\n      <td>0.06</td>\n      <td>0.01</td>\n      <td>0.00</td>\n      <td>0.00</td>\n      <td>0.00</td>\n      <td>0.01</td>\n      <td>0.00</td>\n      <td>0.00</td>\n      <td>...</td>\n      <td>0.00</td>\n      <td>0.00</td>\n      <td>0.01</td>\n      <td>0.00</td>\n      <td>0.00</td>\n      <td>0.01</td>\n      <td>0.00</td>\n      <td>0.00</td>\n      <td>0.01</td>\n      <td>0.00</td>\n    </tr>\n    <tr>\n      <th>4</th>\n      <td>San Francisco</td>\n      <td>0.00</td>\n      <td>0.00</td>\n      <td>0.00</td>\n      <td>0.00</td>\n      <td>0.00</td>\n      <td>0.01</td>\n      <td>0.00</td>\n      <td>0.00</td>\n      <td>0.00</td>\n      <td>...</td>\n      <td>0.00</td>\n      <td>0.00</td>\n      <td>0.00</td>\n      <td>0.02</td>\n      <td>0.01</td>\n      <td>0.00</td>\n      <td>0.03</td>\n      <td>0.01</td>\n      <td>0.00</td>\n      <td>0.01</td>\n    </tr>\n    <tr>\n      <th>5</th>\n      <td>Seattle</td>\n      <td>0.00</td>\n      <td>0.01</td>\n      <td>0.00</td>\n      <td>0.00</td>\n      <td>0.00</td>\n      <td>0.02</td>\n      <td>0.00</td>\n      <td>0.00</td>\n      <td>0.00</td>\n      <td>...</td>\n      <td>0.01</td>\n      <td>0.00</td>\n      <td>0.00</td>\n      <td>0.00</td>\n      <td>0.00</td>\n      <td>0.00</td>\n      <td>0.02</td>\n      <td>0.00</td>\n      <td>0.00</td>\n      <td>0.00</td>\n    </tr>\n  </tbody>\n</table>\n<p>6 rows \u00d7 179 columns</p>\n</div>",
                        "text/plain": "            City  Accessories Store  American Restaurant  Arcade  \\\n0         Austin               0.01                 0.02    0.00   \n1        Chicago               0.00                 0.01    0.00   \n2         Denver               0.00                 0.03    0.00   \n3      Nashville               0.00                 0.06    0.01   \n4  San Francisco               0.00                 0.00    0.00   \n5        Seattle               0.00                 0.01    0.00   \n\n   Arepa Restaurant  Art Gallery  Art Museum  Arts & Crafts Store  \\\n0              0.00         0.00        0.01                 0.00   \n1              0.01         0.01        0.02                 0.04   \n2              0.00         0.02        0.02                 0.00   \n3              0.00         0.00        0.00                 0.01   \n4              0.00         0.00        0.01                 0.00   \n5              0.00         0.00        0.02                 0.00   \n\n   Asian Restaurant  Athletics & Sports  ...  Toy / Game Store  Trail  \\\n0              0.00                0.01  ...              0.00   0.00   \n1              0.02                0.00  ...              0.00   0.01   \n2              0.02                0.00  ...              0.00   0.00   \n3              0.00                0.00  ...              0.00   0.00   \n4              0.00                0.00  ...              0.00   0.00   \n5              0.00                0.00  ...              0.01   0.00   \n\n   Train Station  Vegetarian / Vegan Restaurant  Vietnamese Restaurant  \\\n0           0.00                           0.00                   0.00   \n1           0.00                           0.01                   0.00   \n2           0.00                           0.01                   0.00   \n3           0.01                           0.00                   0.00   \n4           0.00                           0.02                   0.01   \n5           0.00                           0.00                   0.00   \n\n   Whisky Bar  Wine Bar  Wine Shop  Women's Store  Yoga Studio  \n0        0.01      0.00       0.01           0.00         0.00  \n1        0.01      0.00       0.00           0.00         0.01  \n2        0.00      0.00       0.00           0.00         0.02  \n3        0.01      0.00       0.00           0.01         0.00  \n4        0.00      0.03       0.01           0.00         0.01  \n5        0.00      0.02       0.00           0.00         0.00  \n\n[6 rows x 179 columns]"
                    },
                    "execution_count": 40,
                    "metadata": {},
                    "output_type": "execute_result"
                }
            ],
            "source": "all_grouped = all_onehot.groupby('City').mean().reset_index()\nall_grouped"
        },
        {
            "cell_type": "code",
            "execution_count": 41,
            "metadata": {},
            "outputs": [],
            "source": "def return_most_common_venues(row, num_top_venues):\n    row_categories = row.iloc[1:]\n    row_categories_sorted = row_categories.sort_values(ascending=False)\n    \n    return row_categories_sorted.index.values[0:num_top_venues]"
        },
        {
            "cell_type": "code",
            "execution_count": 54,
            "metadata": {},
            "outputs": [
                {
                    "data": {
                        "text/html": "<div>\n<style scoped>\n    .dataframe tbody tr th:only-of-type {\n        vertical-align: middle;\n    }\n\n    .dataframe tbody tr th {\n        vertical-align: top;\n    }\n\n    .dataframe thead th {\n        text-align: right;\n    }\n</style>\n<table border=\"1\" class=\"dataframe\">\n  <thead>\n    <tr style=\"text-align: right;\">\n      <th></th>\n      <th>City</th>\n      <th>1st Most Common Venue</th>\n      <th>2nd Most Common Venue</th>\n      <th>3rd Most Common Venue</th>\n      <th>4th Most Common Venue</th>\n      <th>5th Most Common Venue</th>\n      <th>6th Most Common Venue</th>\n      <th>7th Most Common Venue</th>\n      <th>8th Most Common Venue</th>\n      <th>9th Most Common Venue</th>\n      <th>10th Most Common Venue</th>\n    </tr>\n  </thead>\n  <tbody>\n    <tr>\n      <th>0</th>\n      <td>Austin</td>\n      <td>Coffee Shop</td>\n      <td>Cocktail Bar</td>\n      <td>Bar</td>\n      <td>Hotel</td>\n      <td>Speakeasy</td>\n      <td>Lounge</td>\n      <td>Music Venue</td>\n      <td>Gay Bar</td>\n      <td>Steakhouse</td>\n      <td>Movie Theater</td>\n    </tr>\n    <tr>\n      <th>1</th>\n      <td>Chicago</td>\n      <td>Pizza Place</td>\n      <td>Arts &amp; Crafts Store</td>\n      <td>Coffee Shop</td>\n      <td>Caf\u00e9</td>\n      <td>Garden</td>\n      <td>Hotel</td>\n      <td>Fountain</td>\n      <td>Park</td>\n      <td>Sandwich Place</td>\n      <td>Italian Restaurant</td>\n    </tr>\n    <tr>\n      <th>2</th>\n      <td>Denver</td>\n      <td>Sandwich Place</td>\n      <td>Coffee Shop</td>\n      <td>Burger Joint</td>\n      <td>Breakfast Spot</td>\n      <td>Bar</td>\n      <td>American Restaurant</td>\n      <td>Hotel</td>\n      <td>Italian Restaurant</td>\n      <td>Marijuana Dispensary</td>\n      <td>Yoga Studio</td>\n    </tr>\n    <tr>\n      <th>3</th>\n      <td>Nashville</td>\n      <td>Bar</td>\n      <td>Music Venue</td>\n      <td>Hotel</td>\n      <td>American Restaurant</td>\n      <td>Park</td>\n      <td>Steakhouse</td>\n      <td>Cocktail Bar</td>\n      <td>Candy Store</td>\n      <td>Diner</td>\n      <td>Mexican Restaurant</td>\n    </tr>\n    <tr>\n      <th>4</th>\n      <td>San Francisco</td>\n      <td>Performing Arts Venue</td>\n      <td>Coffee Shop</td>\n      <td>Cocktail Bar</td>\n      <td>Mexican Restaurant</td>\n      <td>French Restaurant</td>\n      <td>Wine Bar</td>\n      <td>Juice Bar</td>\n      <td>Sushi Restaurant</td>\n      <td>Clothing Store</td>\n      <td>Theater</td>\n    </tr>\n  </tbody>\n</table>\n</div>",
                        "text/plain": "            City  1st Most Common Venue 2nd Most Common Venue  \\\n0         Austin            Coffee Shop          Cocktail Bar   \n1        Chicago            Pizza Place   Arts & Crafts Store   \n2         Denver         Sandwich Place           Coffee Shop   \n3      Nashville                    Bar           Music Venue   \n4  San Francisco  Performing Arts Venue           Coffee Shop   \n\n  3rd Most Common Venue 4th Most Common Venue 5th Most Common Venue  \\\n0                   Bar                 Hotel             Speakeasy   \n1           Coffee Shop                  Caf\u00e9                Garden   \n2          Burger Joint        Breakfast Spot                   Bar   \n3                 Hotel   American Restaurant                  Park   \n4          Cocktail Bar    Mexican Restaurant     French Restaurant   \n\n  6th Most Common Venue 7th Most Common Venue 8th Most Common Venue  \\\n0                Lounge           Music Venue               Gay Bar   \n1                 Hotel              Fountain                  Park   \n2   American Restaurant                 Hotel    Italian Restaurant   \n3            Steakhouse          Cocktail Bar           Candy Store   \n4              Wine Bar             Juice Bar      Sushi Restaurant   \n\n  9th Most Common Venue 10th Most Common Venue  \n0            Steakhouse          Movie Theater  \n1        Sandwich Place     Italian Restaurant  \n2  Marijuana Dispensary            Yoga Studio  \n3                 Diner     Mexican Restaurant  \n4        Clothing Store                Theater  "
                    },
                    "execution_count": 54,
                    "metadata": {},
                    "output_type": "execute_result"
                }
            ],
            "source": "num_top_venues = 10\n\nindicators = ['st', 'nd', 'rd']\n\n# create columns according to number of top venues\ncolumns = ['City']\nfor ind in np.arange(num_top_venues):\n    try:\n        columns.append('{}{} Most Common Venue'.format(ind+1, indicators[ind]))\n    except:\n        columns.append('{}th Most Common Venue'.format(ind+1))\n\n# create a new dataframe\ncity_venues_sorted = pd.DataFrame(columns=columns)\ncity_venues_sorted['City'] = all_grouped['City']\n\nfor ind in np.arange(all_grouped.shape[0]):\n    city_venues_sorted.iloc[ind, 1:] = return_most_common_venues(all_grouped.iloc[ind, :], num_top_venues)\n\ncity_venues_sorted.head()"
        },
        {
            "cell_type": "markdown",
            "metadata": {},
            "source": "## Methodology <a name=\"methodology\"></a>"
        },
        {
            "cell_type": "markdown",
            "metadata": {},
            "source": "In the first step we have collected the required **coordinate data** for each of our desired cities in the United States, including our baseline cities of San Francisco and Chicago. Additionally, **location and type (category) of every venue near each city center of interest** using Foursquare API.\n\nOur next step will be to create **clusters of the cities** to determine which share similarities with our baseline cities. We will present map of all such locations but also create clusters (using **k-means clustering**) of those locations to identify the most similar city and the best city to relocate to."
        },
        {
            "cell_type": "markdown",
            "metadata": {},
            "source": "## Analysis <a name=\"analysis\"></a>"
        },
        {
            "cell_type": "code",
            "execution_count": 76,
            "metadata": {},
            "outputs": [
                {
                    "data": {
                        "text/plain": "Venue Category\nCoffee Shop     7\nCocktail Bar    6\nBar             5\nHotel           5\nLounge          4\nSpeakeasy       4\nMusic Venue     3\nSteakhouse      3\nGay Bar         3\nRestaurant      3\ndtype: int64"
                    },
                    "execution_count": 76,
                    "metadata": {},
                    "output_type": "execute_result"
                }
            ],
            "source": "austin_venues = all_venues.groupby(['City', 'Venue Category']).size()['Austin']\naustin_venues.sort_values(inplace=True, ascending=False)\naustin_venues.head(10)"
        },
        {
            "cell_type": "code",
            "execution_count": 77,
            "metadata": {},
            "outputs": [
                {
                    "data": {
                        "text/plain": "Venue Category\nCoffee Shop              4\nCocktail Bar             4\nPerforming Arts Venue    4\nJuice Bar                3\nSushi Restaurant         3\nFrench Restaurant        3\nMexican Restaurant       3\nClothing Store           3\nWine Bar                 3\nTheater                  3\ndtype: int64"
                    },
                    "execution_count": 77,
                    "metadata": {},
                    "output_type": "execute_result"
                }
            ],
            "source": "sf_venues = all_venues.groupby(['City', 'Venue Category']).size()['San Francisco']\nsf_venues.sort_values(inplace=True, ascending=False)\nsf_venues.head(10)"
        },
        {
            "cell_type": "code",
            "execution_count": 78,
            "metadata": {},
            "outputs": [
                {
                    "data": {
                        "text/plain": "Venue Category\nPizza Place            5\nArts & Crafts Store    4\nCoffee Shop            4\nHotel                  3\nGarden                 3\nCaf\u00e9                   3\nPark                   2\nSandwich Place         2\nItalian Restaurant     2\nFountain               2\ndtype: int64"
                    },
                    "execution_count": 78,
                    "metadata": {},
                    "output_type": "execute_result"
                }
            ],
            "source": "chi_venues = all_venues.groupby(['City', 'Venue Category']).size()['Chicago']\nchi_venues.sort_values(inplace=True, ascending=False)\nchi_venues.head(10)"
        },
        {
            "cell_type": "code",
            "execution_count": 79,
            "metadata": {},
            "outputs": [
                {
                    "data": {
                        "text/plain": "Venue Category\nSandwich Place          6\nCoffee Shop             5\nBar                     4\nBreakfast Spot          4\nBurger Joint            4\nAmerican Restaurant     3\nHotel                   3\nItalian Restaurant      3\nMarijuana Dispensary    3\nNoodle House            2\ndtype: int64"
                    },
                    "execution_count": 79,
                    "metadata": {},
                    "output_type": "execute_result"
                }
            ],
            "source": "denver_venues = all_venues.groupby(['City', 'Venue Category']).size()['Denver']\ndenver_venues.sort_values(inplace=True, ascending=False)\ndenver_venues.head(10)"
        },
        {
            "cell_type": "code",
            "execution_count": 80,
            "metadata": {},
            "outputs": [
                {
                    "data": {
                        "text/plain": "Venue Category\nCoffee Shop            10\nHotel                   8\nCaf\u00e9                    6\nCocktail Bar            5\nDonut Shop              3\nJapanese Restaurant     3\nGift Shop               2\nHotel Bar               2\nItalian Restaurant      2\nLounge                  2\ndtype: int64"
                    },
                    "execution_count": 80,
                    "metadata": {},
                    "output_type": "execute_result"
                }
            ],
            "source": "seattle_venues = all_venues.groupby(['City', 'Venue Category']).size()['Seattle']\nseattle_venues.sort_values(inplace=True, ascending=False)\nseattle_venues.head(10)"
        },
        {
            "cell_type": "code",
            "execution_count": 81,
            "metadata": {},
            "outputs": [
                {
                    "data": {
                        "text/plain": "Venue Category\nBar                    15\nMusic Venue             9\nAmerican Restaurant     6\nHotel                   6\nPark                    4\nSteakhouse              4\nCandy Store             3\nCocktail Bar            3\nPizza Place             2\nRestaurant              2\ndtype: int64"
                    },
                    "execution_count": 81,
                    "metadata": {},
                    "output_type": "execute_result"
                }
            ],
            "source": "nash_venues = all_venues.groupby(['City', 'Venue Category']).size()['Nashville']\nnash_venues.sort_values(inplace=True, ascending=False)\nnash_venues.head(10)"
        },
        {
            "cell_type": "code",
            "execution_count": 82,
            "metadata": {},
            "outputs": [
                {
                    "data": {
                        "text/plain": "Venue Category\nCoffee Shop     7\nCocktail Bar    6\nBar             5\nHotel           5\nLounge          4\nSpeakeasy       4\nMusic Venue     3\nSteakhouse      3\nGay Bar         3\nRestaurant      3\ndtype: int64"
                    },
                    "execution_count": 82,
                    "metadata": {},
                    "output_type": "execute_result"
                }
            ],
            "source": "austin_venues = all_venues.groupby(['City', 'Venue Category']).size()['Austin']\naustin_venues.sort_values(inplace=True, ascending=False)\naustin_venues.head(10)"
        },
        {
            "cell_type": "code",
            "execution_count": 55,
            "metadata": {},
            "outputs": [
                {
                    "data": {
                        "text/plain": "array([2, 1, 1, 0, 1, 2], dtype=int32)"
                    },
                    "execution_count": 55,
                    "metadata": {},
                    "output_type": "execute_result"
                }
            ],
            "source": "# set number of clusters\nkclusters = 3\n\nlocation_grouped_clustering = all_grouped.drop('City', 1)\n\n# run k-means clustering\nkmeans = KMeans(n_clusters=kclusters, random_state=0).fit(location_grouped_clustering)\n\n# check cluster labels generated for each row in the dataframe\nkmeans.labels_[0:10] "
        },
        {
            "cell_type": "code",
            "execution_count": 56,
            "metadata": {},
            "outputs": [
                {
                    "data": {
                        "text/html": "<div>\n<style scoped>\n    .dataframe tbody tr th:only-of-type {\n        vertical-align: middle;\n    }\n\n    .dataframe tbody tr th {\n        vertical-align: top;\n    }\n\n    .dataframe thead th {\n        text-align: right;\n    }\n</style>\n<table border=\"1\" class=\"dataframe\">\n  <thead>\n    <tr style=\"text-align: right;\">\n      <th></th>\n      <th>City</th>\n      <th>State</th>\n      <th>Latitude</th>\n      <th>Longitude</th>\n      <th>Cluster Labels</th>\n      <th>1st Most Common Venue</th>\n      <th>2nd Most Common Venue</th>\n      <th>3rd Most Common Venue</th>\n      <th>4th Most Common Venue</th>\n      <th>5th Most Common Venue</th>\n      <th>6th Most Common Venue</th>\n      <th>7th Most Common Venue</th>\n      <th>8th Most Common Venue</th>\n      <th>9th Most Common Venue</th>\n      <th>10th Most Common Venue</th>\n    </tr>\n  </thead>\n  <tbody>\n    <tr>\n      <th>0</th>\n      <td>San Francisco</td>\n      <td>CA</td>\n      <td>37.779026</td>\n      <td>-122.419906</td>\n      <td>1</td>\n      <td>Performing Arts Venue</td>\n      <td>Coffee Shop</td>\n      <td>Cocktail Bar</td>\n      <td>Mexican Restaurant</td>\n      <td>French Restaurant</td>\n      <td>Wine Bar</td>\n      <td>Juice Bar</td>\n      <td>Sushi Restaurant</td>\n      <td>Clothing Store</td>\n      <td>Theater</td>\n    </tr>\n    <tr>\n      <th>1</th>\n      <td>Chicago</td>\n      <td>IL</td>\n      <td>41.875562</td>\n      <td>-87.624421</td>\n      <td>1</td>\n      <td>Pizza Place</td>\n      <td>Arts &amp; Crafts Store</td>\n      <td>Coffee Shop</td>\n      <td>Caf\u00e9</td>\n      <td>Garden</td>\n      <td>Hotel</td>\n      <td>Fountain</td>\n      <td>Park</td>\n      <td>Sandwich Place</td>\n      <td>Italian Restaurant</td>\n    </tr>\n    <tr>\n      <th>2</th>\n      <td>Denver</td>\n      <td>CO</td>\n      <td>39.739236</td>\n      <td>-104.984862</td>\n      <td>1</td>\n      <td>Sandwich Place</td>\n      <td>Coffee Shop</td>\n      <td>Burger Joint</td>\n      <td>Breakfast Spot</td>\n      <td>Bar</td>\n      <td>American Restaurant</td>\n      <td>Hotel</td>\n      <td>Italian Restaurant</td>\n      <td>Marijuana Dispensary</td>\n      <td>Yoga Studio</td>\n    </tr>\n    <tr>\n      <th>3</th>\n      <td>Seattle</td>\n      <td>WA</td>\n      <td>47.603832</td>\n      <td>-122.330062</td>\n      <td>2</td>\n      <td>Coffee Shop</td>\n      <td>Hotel</td>\n      <td>Caf\u00e9</td>\n      <td>Cocktail Bar</td>\n      <td>Donut Shop</td>\n      <td>Japanese Restaurant</td>\n      <td>Gift Shop</td>\n      <td>Scenic Lookout</td>\n      <td>Seafood Restaurant</td>\n      <td>Chinese Restaurant</td>\n    </tr>\n    <tr>\n      <th>4</th>\n      <td>Austin</td>\n      <td>TX</td>\n      <td>30.271129</td>\n      <td>-97.743700</td>\n      <td>2</td>\n      <td>Coffee Shop</td>\n      <td>Cocktail Bar</td>\n      <td>Bar</td>\n      <td>Hotel</td>\n      <td>Speakeasy</td>\n      <td>Lounge</td>\n      <td>Music Venue</td>\n      <td>Gay Bar</td>\n      <td>Steakhouse</td>\n      <td>Movie Theater</td>\n    </tr>\n    <tr>\n      <th>5</th>\n      <td>Nashville</td>\n      <td>TN</td>\n      <td>36.162230</td>\n      <td>-86.774353</td>\n      <td>0</td>\n      <td>Bar</td>\n      <td>Music Venue</td>\n      <td>Hotel</td>\n      <td>American Restaurant</td>\n      <td>Park</td>\n      <td>Steakhouse</td>\n      <td>Cocktail Bar</td>\n      <td>Candy Store</td>\n      <td>Diner</td>\n      <td>Mexican Restaurant</td>\n    </tr>\n  </tbody>\n</table>\n</div>",
                        "text/plain": "            City State   Latitude   Longitude  Cluster Labels  \\\n0  San Francisco    CA  37.779026 -122.419906               1   \n1        Chicago    IL  41.875562  -87.624421               1   \n2         Denver    CO  39.739236 -104.984862               1   \n3        Seattle    WA  47.603832 -122.330062               2   \n4         Austin    TX  30.271129  -97.743700               2   \n5      Nashville    TN  36.162230  -86.774353               0   \n\n   1st Most Common Venue 2nd Most Common Venue 3rd Most Common Venue  \\\n0  Performing Arts Venue           Coffee Shop          Cocktail Bar   \n1            Pizza Place   Arts & Crafts Store           Coffee Shop   \n2         Sandwich Place           Coffee Shop          Burger Joint   \n3            Coffee Shop                 Hotel                  Caf\u00e9   \n4            Coffee Shop          Cocktail Bar                   Bar   \n5                    Bar           Music Venue                 Hotel   \n\n  4th Most Common Venue 5th Most Common Venue 6th Most Common Venue  \\\n0    Mexican Restaurant     French Restaurant              Wine Bar   \n1                  Caf\u00e9                Garden                 Hotel   \n2        Breakfast Spot                   Bar   American Restaurant   \n3          Cocktail Bar            Donut Shop   Japanese Restaurant   \n4                 Hotel             Speakeasy                Lounge   \n5   American Restaurant                  Park            Steakhouse   \n\n  7th Most Common Venue 8th Most Common Venue 9th Most Common Venue  \\\n0             Juice Bar      Sushi Restaurant        Clothing Store   \n1              Fountain                  Park        Sandwich Place   \n2                 Hotel    Italian Restaurant  Marijuana Dispensary   \n3             Gift Shop        Scenic Lookout    Seafood Restaurant   \n4           Music Venue               Gay Bar            Steakhouse   \n5          Cocktail Bar           Candy Store                 Diner   \n\n  10th Most Common Venue  \n0                Theater  \n1     Italian Restaurant  \n2            Yoga Studio  \n3     Chinese Restaurant  \n4          Movie Theater  \n5     Mexican Restaurant  "
                    },
                    "execution_count": 56,
                    "metadata": {},
                    "output_type": "execute_result"
                }
            ],
            "source": "# add clustering labels\ncity_venues_sorted.insert(0, 'Cluster Labels', kmeans.labels_)\n\ncities_merged = locations\n\n# merge manhattan_grouped with manhattan_data to add latitude/longitude for each neighborhood\ncities_merged = cities_merged.join(city_venues_sorted.set_index('City'), on='City')\n\ncities_merged.head(6)"
        },
        {
            "cell_type": "code",
            "execution_count": 57,
            "metadata": {},
            "outputs": [
                {
                    "name": "stdout",
                    "output_type": "stream",
                    "text": "The geograpical coordinate of the US are 39.7837304, -100.4458825.\n"
                }
            ],
            "source": "center_address = 'United States'\n\ngeolocator = Nominatim(user_agent=\"ny_explorer\")\ncenter_location = geolocator.geocode(center_address)\ncenter_latitude = center_location.latitude\ncenter_longitude = center_location.longitude\nprint('The geograpical coordinate of the US are {}, {}.'.format(center_latitude, center_longitude))"
        },
        {
            "cell_type": "code",
            "execution_count": 61,
            "metadata": {
                "scrolled": true
            },
            "outputs": [
                {
                    "data": {
                        "text/html": "<div style=\"width:100%;\"><div style=\"position:relative;width:100%;height:0;padding-bottom:60%;\"><span style=\"color:#565656\">Make this Notebook Trusted to load map: File -> Trust Notebook</span><iframe src=\"about:blank\" style=\"position:absolute;width:100%;height:100%;left:0;top:0;border:none !important;\" data-html=%3C%21DOCTYPE%20html%3E%0A%3Chead%3E%20%20%20%20%0A%20%20%20%20%3Cmeta%20http-equiv%3D%22content-type%22%20content%3D%22text/html%3B%20charset%3DUTF-8%22%20/%3E%0A%20%20%20%20%3Cscript%3EL_PREFER_CANVAS%20%3D%20false%3B%20L_NO_TOUCH%20%3D%20false%3B%20L_DISABLE_3D%20%3D%20false%3B%3C/script%3E%0A%20%20%20%20%3Cscript%20src%3D%22https%3A//cdn.jsdelivr.net/npm/leaflet%401.2.0/dist/leaflet.js%22%3E%3C/script%3E%0A%20%20%20%20%3Cscript%20src%3D%22https%3A//ajax.googleapis.com/ajax/libs/jquery/1.11.1/jquery.min.js%22%3E%3C/script%3E%0A%20%20%20%20%3Cscript%20src%3D%22https%3A//maxcdn.bootstrapcdn.com/bootstrap/3.2.0/js/bootstrap.min.js%22%3E%3C/script%3E%0A%20%20%20%20%3Cscript%20src%3D%22https%3A//cdnjs.cloudflare.com/ajax/libs/Leaflet.awesome-markers/2.0.2/leaflet.awesome-markers.js%22%3E%3C/script%3E%0A%20%20%20%20%3Clink%20rel%3D%22stylesheet%22%20href%3D%22https%3A//cdn.jsdelivr.net/npm/leaflet%401.2.0/dist/leaflet.css%22/%3E%0A%20%20%20%20%3Clink%20rel%3D%22stylesheet%22%20href%3D%22https%3A//maxcdn.bootstrapcdn.com/bootstrap/3.2.0/css/bootstrap.min.css%22/%3E%0A%20%20%20%20%3Clink%20rel%3D%22stylesheet%22%20href%3D%22https%3A//maxcdn.bootstrapcdn.com/bootstrap/3.2.0/css/bootstrap-theme.min.css%22/%3E%0A%20%20%20%20%3Clink%20rel%3D%22stylesheet%22%20href%3D%22https%3A//maxcdn.bootstrapcdn.com/font-awesome/4.6.3/css/font-awesome.min.css%22/%3E%0A%20%20%20%20%3Clink%20rel%3D%22stylesheet%22%20href%3D%22https%3A//cdnjs.cloudflare.com/ajax/libs/Leaflet.awesome-markers/2.0.2/leaflet.awesome-markers.css%22/%3E%0A%20%20%20%20%3Clink%20rel%3D%22stylesheet%22%20href%3D%22https%3A//rawgit.com/python-visualization/folium/master/folium/templates/leaflet.awesome.rotate.css%22/%3E%0A%20%20%20%20%3Cstyle%3Ehtml%2C%20body%20%7Bwidth%3A%20100%25%3Bheight%3A%20100%25%3Bmargin%3A%200%3Bpadding%3A%200%3B%7D%3C/style%3E%0A%20%20%20%20%3Cstyle%3E%23map%20%7Bposition%3Aabsolute%3Btop%3A0%3Bbottom%3A0%3Bright%3A0%3Bleft%3A0%3B%7D%3C/style%3E%0A%20%20%20%20%0A%20%20%20%20%20%20%20%20%20%20%20%20%3Cstyle%3E%20%23map_7db191dd246d4d48a95b7ec9c736a0e3%20%7B%0A%20%20%20%20%20%20%20%20%20%20%20%20%20%20%20%20position%20%3A%20relative%3B%0A%20%20%20%20%20%20%20%20%20%20%20%20%20%20%20%20width%20%3A%20100.0%25%3B%0A%20%20%20%20%20%20%20%20%20%20%20%20%20%20%20%20height%3A%20100.0%25%3B%0A%20%20%20%20%20%20%20%20%20%20%20%20%20%20%20%20left%3A%200.0%25%3B%0A%20%20%20%20%20%20%20%20%20%20%20%20%20%20%20%20top%3A%200.0%25%3B%0A%20%20%20%20%20%20%20%20%20%20%20%20%20%20%20%20%7D%0A%20%20%20%20%20%20%20%20%20%20%20%20%3C/style%3E%0A%20%20%20%20%20%20%20%20%0A%3C/head%3E%0A%3Cbody%3E%20%20%20%20%0A%20%20%20%20%0A%20%20%20%20%20%20%20%20%20%20%20%20%3Cdiv%20class%3D%22folium-map%22%20id%3D%22map_7db191dd246d4d48a95b7ec9c736a0e3%22%20%3E%3C/div%3E%0A%20%20%20%20%20%20%20%20%0A%3C/body%3E%0A%3Cscript%3E%20%20%20%20%0A%20%20%20%20%0A%0A%20%20%20%20%20%20%20%20%20%20%20%20%0A%20%20%20%20%20%20%20%20%20%20%20%20%20%20%20%20var%20bounds%20%3D%20null%3B%0A%20%20%20%20%20%20%20%20%20%20%20%20%0A%0A%20%20%20%20%20%20%20%20%20%20%20%20var%20map_7db191dd246d4d48a95b7ec9c736a0e3%20%3D%20L.map%28%0A%20%20%20%20%20%20%20%20%20%20%20%20%20%20%20%20%20%20%20%20%20%20%20%20%20%20%20%20%20%20%20%20%20%20%27map_7db191dd246d4d48a95b7ec9c736a0e3%27%2C%0A%20%20%20%20%20%20%20%20%20%20%20%20%20%20%20%20%20%20%20%20%20%20%20%20%20%20%20%20%20%20%20%20%20%20%7Bcenter%3A%20%5B39.7837304%2C-100.4458825%5D%2C%0A%20%20%20%20%20%20%20%20%20%20%20%20%20%20%20%20%20%20%20%20%20%20%20%20%20%20%20%20%20%20%20%20%20%20zoom%3A%205%2C%0A%20%20%20%20%20%20%20%20%20%20%20%20%20%20%20%20%20%20%20%20%20%20%20%20%20%20%20%20%20%20%20%20%20%20maxBounds%3A%20bounds%2C%0A%20%20%20%20%20%20%20%20%20%20%20%20%20%20%20%20%20%20%20%20%20%20%20%20%20%20%20%20%20%20%20%20%20%20layers%3A%20%5B%5D%2C%0A%20%20%20%20%20%20%20%20%20%20%20%20%20%20%20%20%20%20%20%20%20%20%20%20%20%20%20%20%20%20%20%20%20%20worldCopyJump%3A%20false%2C%0A%20%20%20%20%20%20%20%20%20%20%20%20%20%20%20%20%20%20%20%20%20%20%20%20%20%20%20%20%20%20%20%20%20%20crs%3A%20L.CRS.EPSG3857%0A%20%20%20%20%20%20%20%20%20%20%20%20%20%20%20%20%20%20%20%20%20%20%20%20%20%20%20%20%20%20%20%20%20%7D%29%3B%0A%20%20%20%20%20%20%20%20%20%20%20%20%0A%20%20%20%20%20%20%20%20%0A%20%20%20%20%0A%20%20%20%20%20%20%20%20%20%20%20%20var%20tile_layer_f4d96e9cda3b4a4cbf011813d1ae0da0%20%3D%20L.tileLayer%28%0A%20%20%20%20%20%20%20%20%20%20%20%20%20%20%20%20%27https%3A//%7Bs%7D.tile.openstreetmap.org/%7Bz%7D/%7Bx%7D/%7By%7D.png%27%2C%0A%20%20%20%20%20%20%20%20%20%20%20%20%20%20%20%20%7B%0A%20%20%22attribution%22%3A%20null%2C%0A%20%20%22detectRetina%22%3A%20false%2C%0A%20%20%22maxZoom%22%3A%2018%2C%0A%20%20%22minZoom%22%3A%201%2C%0A%20%20%22noWrap%22%3A%20false%2C%0A%20%20%22subdomains%22%3A%20%22abc%22%0A%7D%0A%20%20%20%20%20%20%20%20%20%20%20%20%20%20%20%20%29.addTo%28map_7db191dd246d4d48a95b7ec9c736a0e3%29%3B%0A%20%20%20%20%20%20%20%20%0A%20%20%20%20%0A%20%20%20%20%20%20%20%20%20%20%20%20var%20circle_marker_65448f10327a4101a2deda5972494592%20%3D%20L.circleMarker%28%0A%20%20%20%20%20%20%20%20%20%20%20%20%20%20%20%20%5B37.7790262%2C-122.419906%5D%2C%0A%20%20%20%20%20%20%20%20%20%20%20%20%20%20%20%20%7B%0A%20%20%22bubblingMouseEvents%22%3A%20true%2C%0A%20%20%22color%22%3A%20%22%238000ff%22%2C%0A%20%20%22dashArray%22%3A%20null%2C%0A%20%20%22dashOffset%22%3A%20null%2C%0A%20%20%22fill%22%3A%20true%2C%0A%20%20%22fillColor%22%3A%20%22%238000ff%22%2C%0A%20%20%22fillOpacity%22%3A%200.7%2C%0A%20%20%22fillRule%22%3A%20%22evenodd%22%2C%0A%20%20%22lineCap%22%3A%20%22round%22%2C%0A%20%20%22lineJoin%22%3A%20%22round%22%2C%0A%20%20%22opacity%22%3A%201.0%2C%0A%20%20%22radius%22%3A%205%2C%0A%20%20%22stroke%22%3A%20true%2C%0A%20%20%22weight%22%3A%203%0A%7D%0A%20%20%20%20%20%20%20%20%20%20%20%20%20%20%20%20%29.addTo%28map_7db191dd246d4d48a95b7ec9c736a0e3%29%3B%0A%20%20%20%20%20%20%20%20%20%20%20%20%0A%20%20%20%20%0A%20%20%20%20%20%20%20%20%20%20%20%20var%20popup_3eb1daee976d43f2ad993501747b7168%20%3D%20L.popup%28%7BmaxWidth%3A%20%27300%27%7D%29%3B%0A%0A%20%20%20%20%20%20%20%20%20%20%20%20%0A%20%20%20%20%20%20%20%20%20%20%20%20%20%20%20%20var%20html_e7a55c7de18e4353b27489aaadc9d5ae%20%3D%20%24%28%27%3Cdiv%20id%3D%22html_e7a55c7de18e4353b27489aaadc9d5ae%22%20style%3D%22width%3A%20100.0%25%3B%20height%3A%20100.0%25%3B%22%3ESan%20Francisco%20Cluster%201%3C/div%3E%27%29%5B0%5D%3B%0A%20%20%20%20%20%20%20%20%20%20%20%20%20%20%20%20popup_3eb1daee976d43f2ad993501747b7168.setContent%28html_e7a55c7de18e4353b27489aaadc9d5ae%29%3B%0A%20%20%20%20%20%20%20%20%20%20%20%20%0A%0A%20%20%20%20%20%20%20%20%20%20%20%20circle_marker_65448f10327a4101a2deda5972494592.bindPopup%28popup_3eb1daee976d43f2ad993501747b7168%29%3B%0A%0A%20%20%20%20%20%20%20%20%20%20%20%20%0A%20%20%20%20%20%20%20%20%0A%20%20%20%20%0A%20%20%20%20%20%20%20%20%20%20%20%20var%20circle_marker_e37c25bce08b40bcb6ebd0274f8c4ea1%20%3D%20L.circleMarker%28%0A%20%20%20%20%20%20%20%20%20%20%20%20%20%20%20%20%5B41.8755616%2C-87.6244212%5D%2C%0A%20%20%20%20%20%20%20%20%20%20%20%20%20%20%20%20%7B%0A%20%20%22bubblingMouseEvents%22%3A%20true%2C%0A%20%20%22color%22%3A%20%22%238000ff%22%2C%0A%20%20%22dashArray%22%3A%20null%2C%0A%20%20%22dashOffset%22%3A%20null%2C%0A%20%20%22fill%22%3A%20true%2C%0A%20%20%22fillColor%22%3A%20%22%238000ff%22%2C%0A%20%20%22fillOpacity%22%3A%200.7%2C%0A%20%20%22fillRule%22%3A%20%22evenodd%22%2C%0A%20%20%22lineCap%22%3A%20%22round%22%2C%0A%20%20%22lineJoin%22%3A%20%22round%22%2C%0A%20%20%22opacity%22%3A%201.0%2C%0A%20%20%22radius%22%3A%205%2C%0A%20%20%22stroke%22%3A%20true%2C%0A%20%20%22weight%22%3A%203%0A%7D%0A%20%20%20%20%20%20%20%20%20%20%20%20%20%20%20%20%29.addTo%28map_7db191dd246d4d48a95b7ec9c736a0e3%29%3B%0A%20%20%20%20%20%20%20%20%20%20%20%20%0A%20%20%20%20%0A%20%20%20%20%20%20%20%20%20%20%20%20var%20popup_0071c18896284890bb91820facc21f32%20%3D%20L.popup%28%7BmaxWidth%3A%20%27300%27%7D%29%3B%0A%0A%20%20%20%20%20%20%20%20%20%20%20%20%0A%20%20%20%20%20%20%20%20%20%20%20%20%20%20%20%20var%20html_dffb999b6c084f25b812e84674496bd0%20%3D%20%24%28%27%3Cdiv%20id%3D%22html_dffb999b6c084f25b812e84674496bd0%22%20style%3D%22width%3A%20100.0%25%3B%20height%3A%20100.0%25%3B%22%3EChicago%20Cluster%201%3C/div%3E%27%29%5B0%5D%3B%0A%20%20%20%20%20%20%20%20%20%20%20%20%20%20%20%20popup_0071c18896284890bb91820facc21f32.setContent%28html_dffb999b6c084f25b812e84674496bd0%29%3B%0A%20%20%20%20%20%20%20%20%20%20%20%20%0A%0A%20%20%20%20%20%20%20%20%20%20%20%20circle_marker_e37c25bce08b40bcb6ebd0274f8c4ea1.bindPopup%28popup_0071c18896284890bb91820facc21f32%29%3B%0A%0A%20%20%20%20%20%20%20%20%20%20%20%20%0A%20%20%20%20%20%20%20%20%0A%20%20%20%20%0A%20%20%20%20%20%20%20%20%20%20%20%20var%20circle_marker_dae376e209684613aac2fe872cd7519a%20%3D%20L.circleMarker%28%0A%20%20%20%20%20%20%20%20%20%20%20%20%20%20%20%20%5B39.7392364%2C-104.9848623%5D%2C%0A%20%20%20%20%20%20%20%20%20%20%20%20%20%20%20%20%7B%0A%20%20%22bubblingMouseEvents%22%3A%20true%2C%0A%20%20%22color%22%3A%20%22%238000ff%22%2C%0A%20%20%22dashArray%22%3A%20null%2C%0A%20%20%22dashOffset%22%3A%20null%2C%0A%20%20%22fill%22%3A%20true%2C%0A%20%20%22fillColor%22%3A%20%22%238000ff%22%2C%0A%20%20%22fillOpacity%22%3A%200.7%2C%0A%20%20%22fillRule%22%3A%20%22evenodd%22%2C%0A%20%20%22lineCap%22%3A%20%22round%22%2C%0A%20%20%22lineJoin%22%3A%20%22round%22%2C%0A%20%20%22opacity%22%3A%201.0%2C%0A%20%20%22radius%22%3A%205%2C%0A%20%20%22stroke%22%3A%20true%2C%0A%20%20%22weight%22%3A%203%0A%7D%0A%20%20%20%20%20%20%20%20%20%20%20%20%20%20%20%20%29.addTo%28map_7db191dd246d4d48a95b7ec9c736a0e3%29%3B%0A%20%20%20%20%20%20%20%20%20%20%20%20%0A%20%20%20%20%0A%20%20%20%20%20%20%20%20%20%20%20%20var%20popup_e3d8d830e061410ca6e73094435c510a%20%3D%20L.popup%28%7BmaxWidth%3A%20%27300%27%7D%29%3B%0A%0A%20%20%20%20%20%20%20%20%20%20%20%20%0A%20%20%20%20%20%20%20%20%20%20%20%20%20%20%20%20var%20html_c16beb5bc6794973a6a0847a123aa019%20%3D%20%24%28%27%3Cdiv%20id%3D%22html_c16beb5bc6794973a6a0847a123aa019%22%20style%3D%22width%3A%20100.0%25%3B%20height%3A%20100.0%25%3B%22%3EDenver%20Cluster%201%3C/div%3E%27%29%5B0%5D%3B%0A%20%20%20%20%20%20%20%20%20%20%20%20%20%20%20%20popup_e3d8d830e061410ca6e73094435c510a.setContent%28html_c16beb5bc6794973a6a0847a123aa019%29%3B%0A%20%20%20%20%20%20%20%20%20%20%20%20%0A%0A%20%20%20%20%20%20%20%20%20%20%20%20circle_marker_dae376e209684613aac2fe872cd7519a.bindPopup%28popup_e3d8d830e061410ca6e73094435c510a%29%3B%0A%0A%20%20%20%20%20%20%20%20%20%20%20%20%0A%20%20%20%20%20%20%20%20%0A%20%20%20%20%0A%20%20%20%20%20%20%20%20%20%20%20%20var%20circle_marker_882240ca46004f26a1adc45c169bc367%20%3D%20L.circleMarker%28%0A%20%20%20%20%20%20%20%20%20%20%20%20%20%20%20%20%5B47.6038321%2C-122.3300624%5D%2C%0A%20%20%20%20%20%20%20%20%20%20%20%20%20%20%20%20%7B%0A%20%20%22bubblingMouseEvents%22%3A%20true%2C%0A%20%20%22color%22%3A%20%22%2380ffb4%22%2C%0A%20%20%22dashArray%22%3A%20null%2C%0A%20%20%22dashOffset%22%3A%20null%2C%0A%20%20%22fill%22%3A%20true%2C%0A%20%20%22fillColor%22%3A%20%22%2380ffb4%22%2C%0A%20%20%22fillOpacity%22%3A%200.7%2C%0A%20%20%22fillRule%22%3A%20%22evenodd%22%2C%0A%20%20%22lineCap%22%3A%20%22round%22%2C%0A%20%20%22lineJoin%22%3A%20%22round%22%2C%0A%20%20%22opacity%22%3A%201.0%2C%0A%20%20%22radius%22%3A%205%2C%0A%20%20%22stroke%22%3A%20true%2C%0A%20%20%22weight%22%3A%203%0A%7D%0A%20%20%20%20%20%20%20%20%20%20%20%20%20%20%20%20%29.addTo%28map_7db191dd246d4d48a95b7ec9c736a0e3%29%3B%0A%20%20%20%20%20%20%20%20%20%20%20%20%0A%20%20%20%20%0A%20%20%20%20%20%20%20%20%20%20%20%20var%20popup_c0a5fe792488460f935e7b1a8a3058b7%20%3D%20L.popup%28%7BmaxWidth%3A%20%27300%27%7D%29%3B%0A%0A%20%20%20%20%20%20%20%20%20%20%20%20%0A%20%20%20%20%20%20%20%20%20%20%20%20%20%20%20%20var%20html_d410c4956109444aa335acd1d95e6968%20%3D%20%24%28%27%3Cdiv%20id%3D%22html_d410c4956109444aa335acd1d95e6968%22%20style%3D%22width%3A%20100.0%25%3B%20height%3A%20100.0%25%3B%22%3ESeattle%20Cluster%202%3C/div%3E%27%29%5B0%5D%3B%0A%20%20%20%20%20%20%20%20%20%20%20%20%20%20%20%20popup_c0a5fe792488460f935e7b1a8a3058b7.setContent%28html_d410c4956109444aa335acd1d95e6968%29%3B%0A%20%20%20%20%20%20%20%20%20%20%20%20%0A%0A%20%20%20%20%20%20%20%20%20%20%20%20circle_marker_882240ca46004f26a1adc45c169bc367.bindPopup%28popup_c0a5fe792488460f935e7b1a8a3058b7%29%3B%0A%0A%20%20%20%20%20%20%20%20%20%20%20%20%0A%20%20%20%20%20%20%20%20%0A%20%20%20%20%0A%20%20%20%20%20%20%20%20%20%20%20%20var%20circle_marker_a465e7b60e424dbabca253517dddf5e8%20%3D%20L.circleMarker%28%0A%20%20%20%20%20%20%20%20%20%20%20%20%20%20%20%20%5B30.2711286%2C-97.7436995%5D%2C%0A%20%20%20%20%20%20%20%20%20%20%20%20%20%20%20%20%7B%0A%20%20%22bubblingMouseEvents%22%3A%20true%2C%0A%20%20%22color%22%3A%20%22%2380ffb4%22%2C%0A%20%20%22dashArray%22%3A%20null%2C%0A%20%20%22dashOffset%22%3A%20null%2C%0A%20%20%22fill%22%3A%20true%2C%0A%20%20%22fillColor%22%3A%20%22%2380ffb4%22%2C%0A%20%20%22fillOpacity%22%3A%200.7%2C%0A%20%20%22fillRule%22%3A%20%22evenodd%22%2C%0A%20%20%22lineCap%22%3A%20%22round%22%2C%0A%20%20%22lineJoin%22%3A%20%22round%22%2C%0A%20%20%22opacity%22%3A%201.0%2C%0A%20%20%22radius%22%3A%205%2C%0A%20%20%22stroke%22%3A%20true%2C%0A%20%20%22weight%22%3A%203%0A%7D%0A%20%20%20%20%20%20%20%20%20%20%20%20%20%20%20%20%29.addTo%28map_7db191dd246d4d48a95b7ec9c736a0e3%29%3B%0A%20%20%20%20%20%20%20%20%20%20%20%20%0A%20%20%20%20%0A%20%20%20%20%20%20%20%20%20%20%20%20var%20popup_006f88aeff354c2b9511c7806dd2447f%20%3D%20L.popup%28%7BmaxWidth%3A%20%27300%27%7D%29%3B%0A%0A%20%20%20%20%20%20%20%20%20%20%20%20%0A%20%20%20%20%20%20%20%20%20%20%20%20%20%20%20%20var%20html_824ca9e45cb446559bc77e070d2d895b%20%3D%20%24%28%27%3Cdiv%20id%3D%22html_824ca9e45cb446559bc77e070d2d895b%22%20style%3D%22width%3A%20100.0%25%3B%20height%3A%20100.0%25%3B%22%3EAustin%20Cluster%202%3C/div%3E%27%29%5B0%5D%3B%0A%20%20%20%20%20%20%20%20%20%20%20%20%20%20%20%20popup_006f88aeff354c2b9511c7806dd2447f.setContent%28html_824ca9e45cb446559bc77e070d2d895b%29%3B%0A%20%20%20%20%20%20%20%20%20%20%20%20%0A%0A%20%20%20%20%20%20%20%20%20%20%20%20circle_marker_a465e7b60e424dbabca253517dddf5e8.bindPopup%28popup_006f88aeff354c2b9511c7806dd2447f%29%3B%0A%0A%20%20%20%20%20%20%20%20%20%20%20%20%0A%20%20%20%20%20%20%20%20%0A%20%20%20%20%0A%20%20%20%20%20%20%20%20%20%20%20%20var%20circle_marker_289b3decef864a02a21cd19ceb8e94ee%20%3D%20L.circleMarker%28%0A%20%20%20%20%20%20%20%20%20%20%20%20%20%20%20%20%5B36.1622296%2C-86.7743531%5D%2C%0A%20%20%20%20%20%20%20%20%20%20%20%20%20%20%20%20%7B%0A%20%20%22bubblingMouseEvents%22%3A%20true%2C%0A%20%20%22color%22%3A%20%22%23ff0000%22%2C%0A%20%20%22dashArray%22%3A%20null%2C%0A%20%20%22dashOffset%22%3A%20null%2C%0A%20%20%22fill%22%3A%20true%2C%0A%20%20%22fillColor%22%3A%20%22%23ff0000%22%2C%0A%20%20%22fillOpacity%22%3A%200.7%2C%0A%20%20%22fillRule%22%3A%20%22evenodd%22%2C%0A%20%20%22lineCap%22%3A%20%22round%22%2C%0A%20%20%22lineJoin%22%3A%20%22round%22%2C%0A%20%20%22opacity%22%3A%201.0%2C%0A%20%20%22radius%22%3A%205%2C%0A%20%20%22stroke%22%3A%20true%2C%0A%20%20%22weight%22%3A%203%0A%7D%0A%20%20%20%20%20%20%20%20%20%20%20%20%20%20%20%20%29.addTo%28map_7db191dd246d4d48a95b7ec9c736a0e3%29%3B%0A%20%20%20%20%20%20%20%20%20%20%20%20%0A%20%20%20%20%0A%20%20%20%20%20%20%20%20%20%20%20%20var%20popup_da072f414bdb4682b0b05d95871843dd%20%3D%20L.popup%28%7BmaxWidth%3A%20%27300%27%7D%29%3B%0A%0A%20%20%20%20%20%20%20%20%20%20%20%20%0A%20%20%20%20%20%20%20%20%20%20%20%20%20%20%20%20var%20html_f8ca713681e44840b23045a55fe89301%20%3D%20%24%28%27%3Cdiv%20id%3D%22html_f8ca713681e44840b23045a55fe89301%22%20style%3D%22width%3A%20100.0%25%3B%20height%3A%20100.0%25%3B%22%3ENashville%20Cluster%200%3C/div%3E%27%29%5B0%5D%3B%0A%20%20%20%20%20%20%20%20%20%20%20%20%20%20%20%20popup_da072f414bdb4682b0b05d95871843dd.setContent%28html_f8ca713681e44840b23045a55fe89301%29%3B%0A%20%20%20%20%20%20%20%20%20%20%20%20%0A%0A%20%20%20%20%20%20%20%20%20%20%20%20circle_marker_289b3decef864a02a21cd19ceb8e94ee.bindPopup%28popup_da072f414bdb4682b0b05d95871843dd%29%3B%0A%0A%20%20%20%20%20%20%20%20%20%20%20%20%0A%20%20%20%20%20%20%20%20%0A%3C/script%3E onload=\"this.contentDocument.open();this.contentDocument.write(    decodeURIComponent(this.getAttribute('data-html')));this.contentDocument.close();\" allowfullscreen webkitallowfullscreen mozallowfullscreen></iframe></div></div>",
                        "text/plain": "<folium.folium.Map at 0x7f26d3fb5610>"
                    },
                    "execution_count": 61,
                    "metadata": {},
                    "output_type": "execute_result"
                }
            ],
            "source": "# create map\nmap_clusters = folium.Map(location=[center_latitude, center_longitude], zoom_start=5)\n\n# set color scheme for the clusters\nx = np.arange(kclusters)\nys = [i + x + (i*x)**2 for i in range(kclusters)]\ncolors_array = cm.rainbow(np.linspace(0, 1, len(ys)))\nrainbow = [colors.rgb2hex(i) for i in colors_array]\n\n# add markers to the map\nmarkers_colors = []\nfor lat, lon, poi, cluster in zip(cities_merged['Latitude'], cities_merged['Longitude'], cities_merged['City'], cities_merged['Cluster Labels']):\n    label = folium.Popup(str(poi) + ' Cluster ' + str(cluster), parse_html=True)\n    folium.CircleMarker(\n        [lat, lon],\n        radius=5,\n        popup=label,\n        color=rainbow[cluster-1],\n        fill=True,\n        fill_color=rainbow[cluster-1],\n        fill_opacity=0.7).add_to(map_clusters)\n       \nmap_clusters"
        },
        {
            "cell_type": "markdown",
            "metadata": {},
            "source": "## Results and Discussion <a name=\"results\"></a>"
        },
        {
            "cell_type": "markdown",
            "metadata": {},
            "source": "Our analysis shows that although there is a great number of variables across different cities in the United States, there are general similarities across San Francisco, Chicago, and Denver. Across the most common venue types, all share a similarity in having performing arts and non-food related venues. Additionally, coffee bars are a similar popularity among the three cities.\n\nAdditionally, the other cities have a larger share of bars and drinking venues as compared to our baseline cities.\n\nOverall, the k-means clustering suggests that Denver is the most comparable city to San Francisco and Chicago."
        },
        {
            "cell_type": "markdown",
            "metadata": {},
            "source": "## Conclusion <a name=\"conclusion\"></a>"
        },
        {
            "cell_type": "markdown",
            "metadata": {},
            "source": "The purpose of this project was to help identify cities across the US that closes resemble San Francisco, CA and Chicago, IL in order to aid in my relocation efforts. Potential cities were chosen and from the city centres, a list of venues and venue types were chosen.\n\nThe final decission based upon my selection criteria and similarity is to relocate to Denver, Colorado."
        },
        {
            "cell_type": "code",
            "execution_count": null,
            "metadata": {},
            "outputs": [],
            "source": ""
        }
    ],
    "metadata": {
        "kernelspec": {
            "display_name": "Python 3.7",
            "language": "python",
            "name": "python3"
        },
        "language_info": {
            "codemirror_mode": {
                "name": "ipython",
                "version": 3
            },
            "file_extension": ".py",
            "mimetype": "text/x-python",
            "name": "python",
            "nbconvert_exporter": "python",
            "pygments_lexer": "ipython3",
            "version": "3.7.10"
        }
    },
    "nbformat": 4,
    "nbformat_minor": 1
}